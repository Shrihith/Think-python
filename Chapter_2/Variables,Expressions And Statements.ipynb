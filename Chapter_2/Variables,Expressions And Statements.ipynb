{
 "cells": [
  {
   "cell_type": "markdown",
   "metadata": {},
   "source": [
    "# CHAPTER-2 : Variables, Expressions and Statements"
   ]
  },
  {
   "cell_type": "markdown",
   "metadata": {},
   "source": [
    "### **Variables**\n",
    "One of the most powerful features of a programming language the ability to manipulate **variables**. A variable is a name that refers to a **value**."
   ]
  },
  {
   "cell_type": "markdown",
   "metadata": {},
   "source": [
    "### **Assignment Statements**\n",
    "An assignment statement creates a new variable and give it a value:"
   ]
  },
  {
   "cell_type": "code",
   "execution_count": 2,
   "metadata": {},
   "outputs": [],
   "source": [
    "message = 'And now for something completely different'                  #string to a new variable named message\n",
    "n = 17                                                                  #integer 17 to n\n",
    "pi = 3.141592653589793                                                  #assigns the appproximate value of pi\n",
    "# with arrow marking in paper is called state diagram"
   ]
  },
  {
   "cell_type": "markdown",
   "metadata": {},
   "source": [
    "### **Variable Names**\n",
    "1. Programmers generally choose names for their variables that are meaningful \n",
    "2. Variable names can be as long as you like. They can contain both letters and numbers, but they can't begin with a number.\n",
    "3. It is legal to use uppercase letters, but it is conventional to use only lowercase for variables names.\n",
    "4. Underscore character _, can appear in a name it is legal."
   ]
  },
  {
   "cell_type": "code",
   "execution_count": null,
   "metadata": {},
   "outputs": [],
   "source": [
    "#If you give a variable an illegal name, you get a syntax error:\n",
    "\n",
    "76trombones = 'big parade'              # illegal because it begins with a number.\n",
    "more@ = 1000000                          # illegal because it contains illegal character, @.\n",
    "class = 'Advanced Theoretical Zymurgy'  # illegal because It turns out that class is one of python's keywords"
   ]
  },
  {
   "cell_type": "markdown",
   "metadata": {},
   "source": [
    "### **Python 3 Keywords**\n",
    "(False, None, True, and, as, assert, break, class, continue, def, del, elif, else, except, finally, for, from, global, if, import, in, is, lambda, nonlocal, not, or, pass, raise, return, try, while, with, yeild )\n"
   ]
  },
  {
   "cell_type": "markdown",
   "metadata": {},
   "source": [
    "### **Expressions and Statements**\n",
    "An expressions is a combination of vakues, variables, and operators. "
   ]
  },
  {
   "cell_type": "code",
   "execution_count": 8,
   "metadata": {},
   "outputs": [
    {
     "data": {
      "text/plain": [
       "42"
      ]
     },
     "execution_count": 8,
     "metadata": {},
     "output_type": "execute_result"
    }
   ],
   "source": [
    "42\n",
    "n\n",
    "n + 25\n",
    "# When you type an expression at the prompt, the interpreter evaluates it. which means that it finds the value  of the expression. \n",
    "# In this example, n has the value 17 and n + 25 has the value 42\n"
   ]
  },
  {
   "cell_type": "code",
   "execution_count": 9,
   "metadata": {},
   "outputs": [
    {
     "name": "stdout",
     "output_type": "stream",
     "text": [
      "17\n"
     ]
    }
   ],
   "source": [
    "# A Statement is a unit of code that has an effect, like creating a variable or displaying a value.\n",
    "n = 17      # assignment statement that give a values to n.\n",
    "print(n)    # Print statement that displays the value of n.\n",
    "# When yo type a statement, the interpreter executes it, which means that it does whatever the statement says. \n",
    "# In general, statements don't have values."
   ]
  },
  {
   "cell_type": "markdown",
   "metadata": {},
   "source": [
    "### **Script Mode**\n",
    "1. So far we have run python in **interactive mode**, which means the you interact directly with the interpreter.\n",
    "2. Interactive mode is good way to get started, but if you are working with more than a few lines of code, it can be clumsy.\n",
    "3. The alternative is to save code in  a file called a script and then run the interpreter in script mode to execute the script. By Convention.\n",
    "4. Python scripts have names that end with **.py**."
   ]
  },
  {
   "cell_type": "code",
   "execution_count": null,
   "metadata": {},
   "outputs": [],
   "source": [
    "miles = 26.2\n",
    "miles * 1.61\n",
    "# The first line assigns  a value to miles,but it has no visible effect.\n",
    "# The second line  is an expression, so the interpreter evaluates it and displays the result.\n",
    "# It turns out that a marathon is about 42 kilometers.\n",
    "\n",
    "\n",
    "# But if you type the same code into  a script and run it ,you get no output at all.\n",
    "# In script mode an expression, all by itself, has no visible effect\n",
    "# Python actually evaluates the expression, but it doesnt display the value unless you tell it to:\n",
    "\n",
    "miles = 26.2\n",
    "print(miles * 1.61)\n",
    "\n",
    "# This behaviour can be confusing at first.\n",
    "# A script usually contains a sequence of statements. If there is more than one statement, the results appear one at a time as the statements execute.\n",
    "\n",
    "# for example the script\n",
    "print(1)\n",
    "x = 2\n",
    "print(x)\n",
    "# The assignment statment produces no output.\n",
    "5\n",
    "x=5\n",
    "x+1"
   ]
  },
  {
   "cell_type": "markdown",
   "metadata": {},
   "source": [
    "### **Order of Operations**"
   ]
  },
  {
   "cell_type": "markdown",
   "metadata": {},
   "source": [
    "1. When an expression contains more than one operator, the order of evaluation depends on the **order of operations**.\n",
    "2. For mathematical operators, python follows mathematical convention.\n",
    "3. The acronym **PEMDAS** is a useful way to remember the rules:\n",
    "\n",
    "**PEMDAS**\n",
    "-  **Parentheses** have the highest precedence and can be used to force an  expression to evaluate in the order you want. Since expression in parentheses are evaluated.\n",
    "  - first, 2 * (3-1) is 4 and (1+1) ** (5-2) is 8 .\n",
    "  - You can also use parentheses to make an expression easier to read, as in (minute * 100) / 60. even if it doesnt change the result.\n",
    "- **Exponentiation** has the next highest precedence, so 1 + 2**3 is 9, not 27, and 2* 3**2 is 18, not 36.\n",
    "- **Multiplication** and **Division** have higher  precedence than **Addition** and **Substraction**\n",
    "   - so 2*3-1 is 5, not 4, and 6+4/2 is 8, not 5.\n",
    "- operators eith the same precedence are evaluated from left to right(except exponentiation).\n",
    "   - so in the expression degrees / 2 * pt, the division happens first and the result is multiplied by pi.\n",
    "   - To divide by 2pie, you can use parentheses or write degrees / 2 / pi.  \n"
   ]
  },
  {
   "cell_type": "markdown",
   "metadata": {},
   "source": [
    "### **String Operations**"
   ]
  },
  {
   "cell_type": "markdown",
   "metadata": {},
   "source": [
    "- In general, you cant perform mathematical operatiions on strings, even if the strings look like numbers so the following are illegal:\n",
    "    * '2'-'1'   'eggs'/'easy'   'third'*'a charm'\n",
    "- But there are two exceptions, + and *.\n",
    "- The + operator performs  string concatenation, which means it joins the strings by linking them end to end.\n",
    "- The * operator also works on strings it perform repetition.\n",
    "    * If one othe values is a string, the other has to be an integer.\n"
   ]
  },
  {
   "cell_type": "code",
   "execution_count": 11,
   "metadata": {},
   "outputs": [
    {
     "data": {
      "text/plain": [
       "'SpamSpamSpam'"
      ]
     },
     "execution_count": 11,
     "metadata": {},
     "output_type": "execute_result"
    }
   ],
   "source": [
    "# For example + operator\n",
    "first = 'throat'\n",
    "second = 'warbler'\n",
    "first + second\n",
    "\n",
    "# For example * operator\n",
    "'Spam' * 3"
   ]
  },
  {
   "cell_type": "markdown",
   "metadata": {},
   "source": [
    "- This use of + and * makes sense by analogy with addition and multiplication.\n",
    "- Just as 4*3 is equivalent to 4+4+4, we expect 'Spam'*3 to be the same as 'Spam'+'Spam'+'Spam', and it is.\n",
    "- On the other hand, there is a significant way in whichj string concatenation and repetitiion are different from integer addition and multiplication.\n",
    "- Can you think of a property that addition has that string concatenation des not?"
   ]
  },
  {
   "cell_type": "markdown",
   "metadata": {},
   "source": [
    "### **Comments**"
   ]
  },
  {
   "cell_type": "markdown",
   "metadata": {},
   "source": [
    "Good idea to add notes to your programs to explain in natural language what the program is doing. These notes are called **comments**, and they start with the **#** symbol:"
   ]
  },
  {
   "cell_type": "code",
   "execution_count": null,
   "metadata": {},
   "outputs": [],
   "source": [
    "# computr the percentage of the hour that elapsed\n",
    "percentage = (minute * 100) / 60\n",
    "percentage = (minute * 100) / 60 # percentage of an hour\n"
   ]
  },
  {
   "cell_type": "markdown",
   "metadata": {},
   "source": [
    "### **Debugging**"
   ]
  },
  {
   "cell_type": "markdown",
   "metadata": {},
   "source": [
    "Three kinds of errors can occur in a program\n",
    "1. Syntax error:\n",
    "   - Syntax refers to the structure of a program and the rules about that structure.\n",
    "   - For example parentheses have to come in matching pairs, so(1 + 2) is  legal, but 8) is a syntax error.\n",
    "   - If thre is a syntax error anywhere in your program, Python displays an error message and quits,  and you will not be able to run the program.\n",
    "2. Runtime error:\n",
    "   - Runtime error refers to the error does not appear until after the program has started running.\n",
    "   - These errors are also called **exceptions** because they usually indicate that something exceptional (and bad) has happened.\n",
    "3. Semantic erroe:\n",
    "   - Semantiic which means related to meaning.\n",
    "   - If there is a semantic error in your program, it will do something else. Specifically, it will do what you told it to do.\n",
    "   - Identifying semantic errors can be tricky because it requires you to work backward by looking at the output of the program and trying to figure out what it is doing."
   ]
  },
  {
   "cell_type": "markdown",
   "metadata": {},
   "source": [
    "### question 1\n",
    "1. **The volume of a sphere with radius r is 4/3 pie r power of 3. what is the volume of a sphere with radius 5**"
   ]
  },
  {
   "cell_type": "code",
   "execution_count": 25,
   "metadata": {},
   "outputs": [
    {
     "data": {
      "text/plain": [
       "523.5983333333332"
      ]
     },
     "execution_count": 25,
     "metadata": {},
     "output_type": "execute_result"
    }
   ],
   "source": [
    "r = 5\n",
    "v = 4/3 * 3.14159 * 5**3\n",
    "v"
   ]
  },
  {
   "cell_type": "markdown",
   "metadata": {},
   "source": [
    "### question 2\n",
    "2. **Suppose the cover price of a book is $24.95, but bookstores get a 40% discount. Shipping cost $3 for the first copy amd 75 cents for each additional copy.What is the total wholesale cost for 60 copies?**"
   ]
  },
  {
   "cell_type": "code",
   "execution_count": 5,
   "metadata": {},
   "outputs": [
    {
     "data": {
      "text/plain": [
       "945.4499999999999"
      ]
     },
     "execution_count": 5,
     "metadata": {},
     "output_type": "execute_result"
    }
   ],
   "source": [
    "Book_price = 24.95\n",
    "discount = Book_price * (40/100)\n",
    "d_price = Book_price - discount\n",
    "shipping = 3 + (0.75 * (60 - 1))\n",
    "wholesale = d_price * 60 + shipping\n",
    "wholesale"
   ]
  },
  {
   "cell_type": "markdown",
   "metadata": {},
   "source": [
    "### questio 3\n",
    "3. **if i leave my house at 6:52 am and run 1 mile at an easy pace (8:15 per mile), then  3 miles at tempo (7;12 per mile) and 1 mile at an easy pace again, what time do i  get home for breakfast?**"
   ]
  },
  {
   "cell_type": "code",
   "execution_count": 11,
   "metadata": {},
   "outputs": [
    {
     "name": "stdout",
     "output_type": "stream",
     "text": [
      "Total time run: 27006, Hours: 7, Minutes: 30, Seconds: 6\n"
     ]
    }
   ],
   "source": [
    "SECONDS = 1\n",
    "MINUTES = 60 * SECONDS\n",
    "HOURS = 60 * MINUTES\n",
    "\n",
    "# All these results are in seconds\n",
    "\n",
    "time_left_house = 6 * HOURS + 52 * MINUTES\n",
    "\n",
    "miles_run_easy_pace = 2 * (8 * MINUTES + 15 * SECONDS)\n",
    "\n",
    "miles_run_fast_pace = 3 * (7 * MINUTES + 12 * SECONDS)\n",
    "\n",
    "total_time_run = miles_run_easy_pace + miles_run_fast_pace + time_left_house\n",
    "\n",
    "# So we now have a big number of seconds to split into hours/minutes/seconds\n",
    "\n",
    "hours = total_time_run // HOURS\n",
    "\n",
    "# the left over part is minutes and seconds (still in seconds)\n",
    "\n",
    "part_hour = total_time_run % HOURS\n",
    "minutes = part_hour // MINUTES\n",
    "seconds = part_hour % MINUTES\n",
    "\n",
    "print (\"Total time run: {}, Hours: {}, Minutes: {}, Seconds: {}\".format(\n",
    "    total_time_run, hours, minutes, seconds))\n"
   ]
  },
  {
   "cell_type": "code",
   "execution_count": null,
   "metadata": {},
   "outputs": [],
   "source": []
  }
 ],
 "metadata": {
  "interpreter": {
   "hash": "b3ba2566441a7c06988d0923437866b63cedc61552a5af99d1f4fb67d367b25f"
  },
  "kernelspec": {
   "display_name": "Python 3.8.8 64-bit ('base': conda)",
   "language": "python",
   "name": "python3"
  },
  "language_info": {
   "codemirror_mode": {
    "name": "ipython",
    "version": 3
   },
   "file_extension": ".py",
   "mimetype": "text/x-python",
   "name": "python",
   "nbconvert_exporter": "python",
   "pygments_lexer": "ipython3",
   "version": "3.9.6"
  },
  "orig_nbformat": 4
 },
 "nbformat": 4,
 "nbformat_minor": 2
}
